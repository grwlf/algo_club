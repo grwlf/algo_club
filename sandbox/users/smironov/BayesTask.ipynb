{
 "cells": [
  {
   "cell_type": "markdown",
   "metadata": {},
   "source": [
    "Задача 6 (1 балла) Для двух выборок ниже запишите уравнения разделяющих\n",
    "поверхностей, которые будут построены в результате обучения наивного байесовского\n",
    "классификатора с предпо-ложением, что значения каждого признака имеют нормальное распределение."
   ]
  },
  {
   "cell_type": "code",
   "execution_count": 14,
   "metadata": {
    "collapsed": true
   },
   "outputs": [],
   "source": [
    "import pandas as pd\n",
    "import numpy as np\n",
    "import matplotlib.pyplot as plt\n",
    "\n",
    "# For sklearn 0.18\n",
    "import sklearn.model_selection as skcv\n",
    "#import sklearn.cross_validation as skcv\n",
    "import sklearn as sk\n",
    "import sklearn.svm as sksv\n",
    "import sklearn.ensemble as sken\n",
    "import sklearn.preprocessing as skpp\n",
    "import sklearn.metrics as skm\n",
    "\n",
    "import time\n",
    "import math\n",
    "\n",
    "%matplotlib inline"
   ]
  },
  {
   "cell_type": "code",
   "execution_count": 11,
   "metadata": {
    "collapsed": false
   },
   "outputs": [],
   "source": [
    "ax = np.arange(0.0,1.1,0.1)\n",
    "ay = np.arange(1.0,2.1,0.1)\n",
    "\n",
    "bx = np.arange(1.0,2.1,0.1)\n",
    "by = 1-np.arange(0.0,1.1,0.1)"
   ]
  },
  {
   "cell_type": "code",
   "execution_count": 19,
   "metadata": {
    "collapsed": false
   },
   "outputs": [
    {
     "data": {
      "image/png": "[encoded data removed]",
      "text/plain": [
       "<matplotlib.figure.Figure at 0x7fdff0fadf60>"
      ]
     },
     "metadata": {},
     "output_type": "display_data"
    }
   ],
   "source": [
    "plt.scatter(ax,ay,marker='x')\n",
    "plt.scatter(bx,by,marker='o')\n",
    "plt.grid()"
   ]
  },
  {
   "cell_type": "code",
   "execution_count": null,
   "metadata": {
    "collapsed": true
   },
   "outputs": [],
   "source": []
  }
 ],
 "metadata": {
  "kernelspec": {
   "display_name": "Python 3",
   "language": "python",
   "name": "python3"
  },
  "language_info": {
   "codemirror_mode": {
    "name": "ipython",
    "version": 3
   },
   "file_extension": ".py",
   "mimetype": "text/x-python",
   "name": "python",
   "nbconvert_exporter": "python",
   "pygments_lexer": "ipython3",
   "version": "3.5.2"
  }
 },
 "nbformat": 4,
 "nbformat_minor": 0
}
