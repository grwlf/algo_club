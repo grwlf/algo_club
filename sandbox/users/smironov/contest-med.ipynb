{
 "cells": [
  {
   "cell_type": "markdown",
   "metadata": {
    "collapsed": true
   },
   "source": [
    "# Соревнования про медицину\n",
    "\n",
    "https://inclass.kaggle.com/c/competition-2-yandex-shad-spring-2017\n",
    "\n",
    "В файлах X.train и y.train задана обучающая выборка, X.test - выборка, для которой необходимо сделать предсказание.\n",
    "Признаки\n",
    "\n",
    "Для каждого пациента задано описание в виде 1330 признаков:\n",
    "\n",
    "    Столбцы с V2 по V331 соответствуют различным медицинским показателям.\n",
    "    Столбцы с V332 по V1331 соответствуют генетическими данными пациента.\n",
    "\n",
    "Обратите внимание, что в случае неизвестного значения указано NaN.\n",
    "Типы признаков\n",
    "\n",
    "В файле MetaData содержится подробное описание типов каждого столбца признаков:\n",
    "\n",
    "    Numeric - числовые признаки;\n",
    "    Category - порядок значений нам не важен;\n",
    "    Ordered Category - порядок значений важен;\n",
    "    Генетические данные - их значения соответствуют частоте конкретного аллеля.\n",
    "\n"
   ]
  },
  {
   "cell_type": "code",
   "execution_count": 6,
   "metadata": {
    "collapsed": true
   },
   "outputs": [],
   "source": [
    "import pandas as pd\n",
    "import numpy as np\n",
    "import matplotlib.pyplot as plt\n",
    "\n",
    "# For sklearn 0.18\n",
    "# import sklearn.model_selection as skcv\n",
    "import sklearn.cross_validation as skcv\n",
    "import sklearn.ensemble as sk\n",
    "import sklearn.preprocessing as skpp"
   ]
  },
  {
   "cell_type": "code",
   "execution_count": 21,
   "metadata": {
    "collapsed": false
   },
   "outputs": [],
   "source": [
    "meta_data = pd.read_csv('cont_02/MetaData.csv')\n",
    "X_train = pd.read_csv('cont_02/X.train.csv')\n",
    "X_test = pd.read_csv('cont_02/X.test.csv')\n",
    "Y_train = pd.read_csv('cont_02/y.train.csv')"
   ]
  },
  {
   "cell_type": "code",
   "execution_count": 29,
   "metadata": {
    "collapsed": false
   },
   "outputs": [
    {
     "name": "stdout",
     "output_type": "stream",
     "text": [
      "X_train.shape= (4099, 1330)\n"
     ]
    },
    {
     "data": {
      "text/plain": [
       "0       0.000000\n",
       "1       0.000000\n",
       "2       0.000000\n",
       "3       0.000000\n",
       "4       0.000000\n",
       "5       0.000000\n",
       "6       0.000000\n",
       "7       0.000000\n",
       "8       0.000000\n",
       "9       0.333333\n",
       "10      0.000000\n",
       "11      0.000000\n",
       "12      0.000000\n",
       "13      0.000000\n",
       "14      0.000000\n",
       "15      0.000000\n",
       "16      0.000000\n",
       "17      0.000000\n",
       "18      0.000000\n",
       "19      0.000000\n",
       "20      0.000000\n",
       "21      0.000000\n",
       "22      0.000000\n",
       "23      0.000000\n",
       "24      0.000000\n",
       "25      0.000000\n",
       "26      0.000000\n",
       "27      0.000000\n",
       "28      0.000000\n",
       "29      0.000000\n",
       "          ...   \n",
       "4069    0.000000\n",
       "4070    0.000000\n",
       "4071    0.000000\n",
       "4072    0.000000\n",
       "4073    0.000000\n",
       "4074    0.000000\n",
       "4075    0.000000\n",
       "4076    0.000000\n",
       "4077    0.166667\n",
       "4078    0.000000\n",
       "4079    0.166667\n",
       "4080    0.000000\n",
       "4081    0.000000\n",
       "4082    0.000000\n",
       "4083    0.166667\n",
       "4084    0.000000\n",
       "4085    0.000000\n",
       "4086    0.000000\n",
       "4087    0.000000\n",
       "4088    0.000000\n",
       "4089    0.000000\n",
       "4090    0.000000\n",
       "4091    0.000000\n",
       "4092    0.000000\n",
       "4093    0.000000\n",
       "4094    0.166667\n",
       "4095    0.000000\n",
       "4096    0.000000\n",
       "4097    0.333333\n",
       "4098    0.000000\n",
       "Name: V234, dtype: float64"
      ]
     },
     "execution_count": 29,
     "metadata": {},
     "output_type": "execute_result"
    }
   ],
   "source": [
    "print('X_train.shape=', X_train.shape)\n",
    "X_train[\"V234\"]"
   ]
  },
  {
   "cell_type": "code",
   "execution_count": 27,
   "metadata": {
    "collapsed": false
   },
   "outputs": [
    {
     "data": {
      "text/html": [
       "<div>\n",
       "<table border=\"1\" class=\"dataframe\">\n",
       "  <thead>\n",
       "    <tr style=\"text-align: right;\">\n",
       "      <th></th>\n",
       "      <th>varnum</th>\n",
       "      <th>type</th>\n",
       "      <th>Column Type</th>\n",
       "    </tr>\n",
       "  </thead>\n",
       "  <tbody>\n",
       "    <tr>\n",
       "      <th>0</th>\n",
       "      <td>V2</td>\n",
       "      <td>char</td>\n",
       "      <td>Numeric</td>\n",
       "    </tr>\n",
       "    <tr>\n",
       "      <th>1</th>\n",
       "      <td>V3</td>\n",
       "      <td>num</td>\n",
       "      <td>Category</td>\n",
       "    </tr>\n",
       "    <tr>\n",
       "      <th>2</th>\n",
       "      <td>V4</td>\n",
       "      <td>num</td>\n",
       "      <td>Category</td>\n",
       "    </tr>\n",
       "    <tr>\n",
       "      <th>3</th>\n",
       "      <td>V5</td>\n",
       "      <td>num</td>\n",
       "      <td>Category</td>\n",
       "    </tr>\n",
       "    <tr>\n",
       "      <th>4</th>\n",
       "      <td>V6</td>\n",
       "      <td>num</td>\n",
       "      <td>Category</td>\n",
       "    </tr>\n",
       "    <tr>\n",
       "      <th>5</th>\n",
       "      <td>V7</td>\n",
       "      <td>num</td>\n",
       "      <td>Category</td>\n",
       "    </tr>\n",
       "    <tr>\n",
       "      <th>6</th>\n",
       "      <td>V8</td>\n",
       "      <td>num</td>\n",
       "      <td>Category</td>\n",
       "    </tr>\n",
       "    <tr>\n",
       "      <th>7</th>\n",
       "      <td>V9</td>\n",
       "      <td>num</td>\n",
       "      <td>Category</td>\n",
       "    </tr>\n",
       "    <tr>\n",
       "      <th>8</th>\n",
       "      <td>V10</td>\n",
       "      <td>num</td>\n",
       "      <td>Category</td>\n",
       "    </tr>\n",
       "    <tr>\n",
       "      <th>9</th>\n",
       "      <td>V11</td>\n",
       "      <td>num</td>\n",
       "      <td>Category</td>\n",
       "    </tr>\n",
       "    <tr>\n",
       "      <th>10</th>\n",
       "      <td>V12</td>\n",
       "      <td>num</td>\n",
       "      <td>Category</td>\n",
       "    </tr>\n",
       "    <tr>\n",
       "      <th>11</th>\n",
       "      <td>V13</td>\n",
       "      <td>num</td>\n",
       "      <td>Category</td>\n",
       "    </tr>\n",
       "    <tr>\n",
       "      <th>12</th>\n",
       "      <td>V14</td>\n",
       "      <td>num</td>\n",
       "      <td>Category</td>\n",
       "    </tr>\n",
       "    <tr>\n",
       "      <th>13</th>\n",
       "      <td>V15</td>\n",
       "      <td>num</td>\n",
       "      <td>Category</td>\n",
       "    </tr>\n",
       "    <tr>\n",
       "      <th>14</th>\n",
       "      <td>V16</td>\n",
       "      <td>num</td>\n",
       "      <td>Category</td>\n",
       "    </tr>\n",
       "    <tr>\n",
       "      <th>15</th>\n",
       "      <td>V17</td>\n",
       "      <td>num</td>\n",
       "      <td>Category</td>\n",
       "    </tr>\n",
       "    <tr>\n",
       "      <th>16</th>\n",
       "      <td>V18</td>\n",
       "      <td>num</td>\n",
       "      <td>Category</td>\n",
       "    </tr>\n",
       "    <tr>\n",
       "      <th>17</th>\n",
       "      <td>V19</td>\n",
       "      <td>num</td>\n",
       "      <td>Category</td>\n",
       "    </tr>\n",
       "    <tr>\n",
       "      <th>18</th>\n",
       "      <td>V20</td>\n",
       "      <td>num</td>\n",
       "      <td>Category</td>\n",
       "    </tr>\n",
       "    <tr>\n",
       "      <th>19</th>\n",
       "      <td>V21</td>\n",
       "      <td>num</td>\n",
       "      <td>Category</td>\n",
       "    </tr>\n",
       "  </tbody>\n",
       "</table>\n",
       "</div>"
      ],
      "text/plain": [
       "   varnum  type Column Type\n",
       "0      V2  char     Numeric\n",
       "1      V3   num    Category\n",
       "2      V4   num    Category\n",
       "3      V5   num    Category\n",
       "4      V6   num    Category\n",
       "5      V7   num    Category\n",
       "6      V8   num    Category\n",
       "7      V9   num    Category\n",
       "8     V10   num    Category\n",
       "9     V11   num    Category\n",
       "10    V12   num    Category\n",
       "11    V13   num    Category\n",
       "12    V14   num    Category\n",
       "13    V15   num    Category\n",
       "14    V16   num    Category\n",
       "15    V17   num    Category\n",
       "16    V18   num    Category\n",
       "17    V19   num    Category\n",
       "18    V20   num    Category\n",
       "19    V21   num    Category"
      ]
     },
     "execution_count": 27,
     "metadata": {},
     "output_type": "execute_result"
    }
   ],
   "source": [
    "meta_data.head(20)"
   ]
  },
  {
   "cell_type": "code",
   "execution_count": 25,
   "metadata": {
    "collapsed": false
   },
   "outputs": [
    {
     "data": {
      "text/html": [
       "<div>\n",
       "<table border=\"1\" class=\"dataframe\">\n",
       "  <thead>\n",
       "    <tr style=\"text-align: right;\">\n",
       "      <th></th>\n",
       "      <th>label</th>\n",
       "    </tr>\n",
       "  </thead>\n",
       "  <tbody>\n",
       "    <tr>\n",
       "      <th>0</th>\n",
       "      <td>0</td>\n",
       "    </tr>\n",
       "    <tr>\n",
       "      <th>1</th>\n",
       "      <td>0</td>\n",
       "    </tr>\n",
       "    <tr>\n",
       "      <th>2</th>\n",
       "      <td>0</td>\n",
       "    </tr>\n",
       "    <tr>\n",
       "      <th>3</th>\n",
       "      <td>0</td>\n",
       "    </tr>\n",
       "    <tr>\n",
       "      <th>4</th>\n",
       "      <td>0</td>\n",
       "    </tr>\n",
       "    <tr>\n",
       "      <th>5</th>\n",
       "      <td>0</td>\n",
       "    </tr>\n",
       "    <tr>\n",
       "      <th>6</th>\n",
       "      <td>0</td>\n",
       "    </tr>\n",
       "    <tr>\n",
       "      <th>7</th>\n",
       "      <td>0</td>\n",
       "    </tr>\n",
       "    <tr>\n",
       "      <th>8</th>\n",
       "      <td>0</td>\n",
       "    </tr>\n",
       "    <tr>\n",
       "      <th>9</th>\n",
       "      <td>0</td>\n",
       "    </tr>\n",
       "  </tbody>\n",
       "</table>\n",
       "</div>"
      ],
      "text/plain": [
       "   label\n",
       "0      0\n",
       "1      0\n",
       "2      0\n",
       "3      0\n",
       "4      0\n",
       "5      0\n",
       "6      0\n",
       "7      0\n",
       "8      0\n",
       "9      0"
      ]
     },
     "execution_count": 25,
     "metadata": {},
     "output_type": "execute_result"
    }
   ],
   "source": [
    "Y_train.head(10)"
   ]
  },
  {
   "cell_type": "markdown",
   "metadata": {},
   "source": [
    "## Базовое решение"
   ]
  },
  {
   "cell_type": "code",
   "execution_count": 7,
   "metadata": {
    "collapsed": false
   },
   "outputs": [],
   "source": [
    "imputer = skpp.Imputer(strategy='most_frequent')\n",
    "X_train = imputer.fit_transform(X_train.values)\n",
    "X_test = imputer.transform(X_test.values)"
   ]
  },
  {
   "cell_type": "code",
   "execution_count": 9,
   "metadata": {
    "collapsed": false
   },
   "outputs": [
    {
     "data": {
      "text/plain": [
       "RandomForestClassifier(bootstrap=True, class_weight=None, criterion='gini',\n",
       "            max_depth=None, max_features='auto', max_leaf_nodes=None,\n",
       "            min_samples_leaf=1, min_samples_split=2,\n",
       "            min_weight_fraction_leaf=0.0, n_estimators=200, n_jobs=-1,\n",
       "            oob_score=False, random_state=1, verbose=0, warm_start=False)"
      ]
     },
     "execution_count": 9,
     "metadata": {},
     "output_type": "execute_result"
    }
   ],
   "source": [
    "clf = sk.RandomForestClassifier(n_estimators=200, n_jobs=-1, random_state=1)\n",
    "clf"
   ]
  },
  {
   "cell_type": "code",
   "execution_count": 11,
   "metadata": {
    "collapsed": false
   },
   "outputs": [
    {
     "data": {
      "text/plain": [
       "0.22601795516555662"
      ]
     },
     "execution_count": 11,
     "metadata": {},
     "output_type": "execute_result"
    }
   ],
   "source": [
    "-np.mean(skcv.cross_val_score(clf, X_train, Y_train.label.values, scoring='log_loss', cv=5))"
   ]
  },
  {
   "cell_type": "code",
   "execution_count": 12,
   "metadata": {
    "collapsed": false
   },
   "outputs": [
    {
     "data": {
      "text/plain": [
       "array([ 0.   ,  0.02 ,  0.02 , ...,  0.075,  0.01 ,  0.095])"
      ]
     },
     "execution_count": 12,
     "metadata": {},
     "output_type": "execute_result"
    }
   ],
   "source": [
    "clf.fit(X_train, Y_train.label.values)\n",
    "clf.predict_proba(X_test)[:, 1]"
   ]
  },
  {
   "cell_type": "code",
   "execution_count": null,
   "metadata": {
    "collapsed": true
   },
   "outputs": [],
   "source": []
  }
 ],
 "metadata": {
  "kernelspec": {
   "display_name": "Python 3",
   "language": "python",
   "name": "python3"
  },
  "language_info": {
   "codemirror_mode": {
    "name": "ipython",
    "version": 3
   },
   "file_extension": ".py",
   "mimetype": "text/x-python",
   "name": "python",
   "nbconvert_exporter": "python",
   "pygments_lexer": "ipython3",
   "version": "3.5.2"
  }
 },
 "nbformat": 4,
 "nbformat_minor": 0
}
