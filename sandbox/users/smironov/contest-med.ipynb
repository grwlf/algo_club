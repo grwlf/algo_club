{
 "cells": [
  {
   "cell_type": "markdown",
   "metadata": {},
   "source": [
    "# Соревнования про медицину\n",
    "\n",
    "https://inclass.kaggle.com/c/competition-2-yandex-shad-spring-2017\n",
    "\n",
    "В файлах X.train и y.train задана обучающая выборка, X.test - выборка, для которой необходимо сделать предсказание.\n",
    "Признаки\n",
    "\n",
    "Для каждого пациента задано описание в виде 1330 признаков:\n",
    "\n",
    "    Столбцы с V2 по V331 соответствуют различным медицинским показателям.\n",
    "    Столбцы с V332 по V1331 соответствуют генетическими данными пациента.\n",
    "\n",
    "Обратите внимание, что в случае неизвестного значения указано NaN.\n",
    "Типы признаков\n",
    "\n",
    "В файле MetaData содержится подробное описание типов каждого столбца признаков:\n",
    "\n",
    "    Numeric - числовые признаки;\n",
    "    Category - порядок значений нам не важен;\n",
    "    Ordered Category - порядок значений важен;\n",
    "    Генетические данные - их значения соответствуют частоте конкретного аллеля.\n",
    "\n"
   ]
  },
  {
   "cell_type": "code",
   "execution_count": 6,
   "metadata": {
    "collapsed": true
   },
   "outputs": [],
   "source": [
    "import pandas as pd\n",
    "import numpy as np\n",
    "import matplotlib.pyplot as plt\n",
    "\n",
    "# For sklearn 0.18\n",
    "# import sklearn.model_selection as skcv\n",
    "import sklearn.cross_validation as skcv\n",
    "import sklearn.ensemble as sk\n",
    "import sklearn.preprocessing as skpp"
   ]
  },
  {
   "cell_type": "code",
   "execution_count": 3,
   "metadata": {
    "collapsed": false
   },
   "outputs": [],
   "source": [
    "X_train = pd.read_csv('cont_02/X.train.csv')\n",
    "X_test = pd.read_csv('cont_02/X.test.csv')\n",
    "Y_train = pd.read_csv('cont_02/y.train.csv')"
   ]
  },
  {
   "cell_type": "markdown",
   "metadata": {},
   "source": [
    "## Базовое решение"
   ]
  },
  {
   "cell_type": "code",
   "execution_count": 7,
   "metadata": {
    "collapsed": false
   },
   "outputs": [],
   "source": [
    "imputer = skpp.Imputer(strategy='most_frequent')\n",
    "X_train = imputer.fit_transform(X_train.values)\n",
    "X_test = imputer.transform(X_test.values)"
   ]
  },
  {
   "cell_type": "code",
   "execution_count": 9,
   "metadata": {
    "collapsed": false
   },
   "outputs": [
    {
     "data": {
      "text/plain": [
       "RandomForestClassifier(bootstrap=True, class_weight=None, criterion='gini',\n",
       "            max_depth=None, max_features='auto', max_leaf_nodes=None,\n",
       "            min_samples_leaf=1, min_samples_split=2,\n",
       "            min_weight_fraction_leaf=0.0, n_estimators=200, n_jobs=-1,\n",
       "            oob_score=False, random_state=1, verbose=0, warm_start=False)"
      ]
     },
     "execution_count": 9,
     "metadata": {},
     "output_type": "execute_result"
    }
   ],
   "source": [
    "clf = sk.RandomForestClassifier(n_estimators=200, n_jobs=-1, random_state=1)\n",
    "clf"
   ]
  },
  {
   "cell_type": "code",
   "execution_count": 11,
   "metadata": {
    "collapsed": false
   },
   "outputs": [
    {
     "data": {
      "text/plain": [
       "0.22601795516555662"
      ]
     },
     "execution_count": 11,
     "metadata": {},
     "output_type": "execute_result"
    }
   ],
   "source": [
    "-np.mean(skcv.cross_val_score(clf, X_train, Y_train.label.values, scoring='log_loss', cv=5))"
   ]
  },
  {
   "cell_type": "code",
   "execution_count": 12,
   "metadata": {
    "collapsed": false
   },
   "outputs": [
    {
     "data": {
      "text/plain": [
       "array([ 0.   ,  0.02 ,  0.02 , ...,  0.075,  0.01 ,  0.095])"
      ]
     },
     "execution_count": 12,
     "metadata": {},
     "output_type": "execute_result"
    }
   ],
   "source": [
    "clf.fit(X_train, Y_train.label.values)\n",
    "clf.predict_proba(X_test)[:, 1]"
   ]
  },
  {
   "cell_type": "code",
   "execution_count": null,
   "metadata": {
    "collapsed": true
   },
   "outputs": [],
   "source": []
  }
 ],
 "metadata": {
  "kernelspec": {
   "display_name": "Python 3",
   "language": "python",
   "name": "python3"
  },
  "language_info": {
   "codemirror_mode": {
    "name": "ipython",
    "version": 3
   },
   "file_extension": ".py",
   "mimetype": "text/x-python",
   "name": "python",
   "nbconvert_exporter": "python",
   "pygments_lexer": "ipython3",
   "version": "3.5.2"
  }
 },
 "nbformat": 4,
 "nbformat_minor": 0
}
