{
 "cells": [
  {
   "cell_type": "markdown",
   "metadata": {
    "collapsed": true
   },
   "source": [
    "# Соревнования про медицину\n",
    "\n",
    "https://inclass.kaggle.com/c/competition-2-yandex-shad-spring-2017\n",
    "\n",
    "В файлах X.train и y.train задана обучающая выборка, X.test - выборка, для которой необходимо сделать предсказание.\n",
    "Признаки\n",
    "\n",
    "Для каждого пациента задано описание в виде 1330 признаков:\n",
    "\n",
    "    Столбцы с V2 по V331 соответствуют различным медицинским показателям.\n",
    "    Столбцы с V332 по V1331 соответствуют генетическими данными пациента.\n",
    "\n",
    "Обратите внимание, что в случае неизвестного значения указано NaN.\n",
    "Типы признаков\n",
    "\n",
    "В файле MetaData содержится подробное описание типов каждого столбца признаков:\n",
    "\n",
    "    Numeric - числовые признаки;\n",
    "    Category - порядок значений нам не важен;\n",
    "    Ordered Category - порядок значений важен;\n",
    "    Генетические данные - их значения соответствуют частоте конкретного аллеля.\n",
    "\n",
    "## Возникшие вопросы\n",
    "* Чем же всё-таки второй метод удаления NaNов лучше?\n",
    "* Можно ли что-нибудь выгадать, округлив значения типа 0.80000000000002 ?\n",
    "* SVC зависает на полных данных. В чём причина?\n",
    "* Порядок колонок реально влияет на результат обучения! Нету ли нигде ошибки?\n"
   ]
  },
  {
   "cell_type": "code",
   "execution_count": 3,
   "metadata": {
    "collapsed": false
   },
   "outputs": [],
   "source": [
    "import pandas as pd\n",
    "import numpy as np\n",
    "import matplotlib.pyplot as plt\n",
    "\n",
    "# For sklearn 0.18\n",
    "import sklearn.model_selection as skcv\n",
    "#import sklearn.cross_validation as skcv\n",
    "import sklearn as sk\n",
    "import sklearn.ensemble as sken\n",
    "import sklearn.preprocessing as skpp\n",
    "import sklearn.metrics as skm"
   ]
  },
  {
   "cell_type": "code",
   "execution_count": 4,
   "metadata": {
    "collapsed": false
   },
   "outputs": [],
   "source": [
    "MetaData = pd.read_csv('cont_02/MetaData.csv')\n",
    "MetaData.columns = [\"var\",\"type\",\"cat\"]\n",
    "\n",
    "X_train = pd.read_csv('cont_02/X.train.csv')\n",
    "X_test = pd.read_csv('cont_02/X.test.csv')\n",
    "Y_train = pd.read_csv('cont_02/y.train.csv')"
   ]
  },
  {
   "cell_type": "code",
   "execution_count": 5,
   "metadata": {
    "collapsed": false
   },
   "outputs": [
    {
     "name": "stdout",
     "output_type": "stream",
     "text": [
      "X_train.shape= (4099, 1330)\n"
     ]
    }
   ],
   "source": [
    "print('X_train.shape=', X_train.shape)"
   ]
  },
  {
   "cell_type": "code",
   "execution_count": 6,
   "metadata": {
    "collapsed": false
   },
   "outputs": [
    {
     "name": "stdout",
     "output_type": "stream",
     "text": [
      "1099\n"
     ]
    },
    {
     "data": {
      "text/plain": [
       "[<matplotlib.lines.Line2D at 0x7f53cdd107f0>]"
      ]
     },
     "execution_count": 6,
     "metadata": {},
     "output_type": "execute_result"
    },
    {
     "data": {
      "image/png": "[encoded data removed]",
      "text/plain": [
       "<matplotlib.figure.Figure at 0x7f53cee2df60>"
      ]
     },
     "metadata": {},
     "output_type": "display_data"
    }
   ],
   "source": [
    "%matplotlib inline\n",
    "numnulls = np.zeros((len(X_train.columns),))\n",
    "for i,c in enumerate(X_train.columns):\n",
    "    nulls = pd.isnull(X_train[c]).values\n",
    "    numnulls[i] = len(nulls[nulls == True])\n",
    "print(numnulls[numnulls < 30].size)\n",
    "plt.plot(numnulls)"
   ]
  },
  {
   "cell_type": "code",
   "execution_count": 7,
   "metadata": {
    "collapsed": false
   },
   "outputs": [
    {
     "data": {
      "text/plain": [
       "Index(['V3', 'V4', 'V29', 'V30', 'V31', 'V33', 'V36', 'V37', 'V38', 'V39',\n",
       "       ...\n",
       "       'V1309', 'V1311', 'V1314', 'V1315', 'V1317', 'V1318', 'V1320', 'V1322',\n",
       "       'V1324', 'V1327'],\n",
       "      dtype='object', length=374)"
      ]
     },
     "execution_count": 7,
     "metadata": {},
     "output_type": "execute_result"
    }
   ],
   "source": [
    "columns_ocat = MetaData[MetaData.loc[:,\"cat\"] == \"Ordered Category\"][\"var\"].values\n",
    "columns_num = MetaData[MetaData.loc[:,\"cat\"] == \"Numeric\"][\"var\"].values\n",
    "columns_cat = MetaData[MetaData.loc[:,\"cat\"] == \"Category\"][\"var\"].values\n",
    "columns_nanfree = X_train.columns[numnulls == 0]\n",
    "columns_all = X_train.columns\n",
    "#for c in columns_ocat:\n",
    "#    print(set(X_train[c]))\n",
    "columns_nanfree"
   ]
  },
  {
   "cell_type": "markdown",
   "metadata": {},
   "source": [
    "## Базовое решение"
   ]
  },
  {
   "cell_type": "code",
   "execution_count": 8,
   "metadata": {
    "collapsed": false
   },
   "outputs": [],
   "source": [
    "imputer = skpp.Imputer(strategy='most_frequent')\n",
    "X_train_mean = imputer.fit_transform(X_train.values)\n",
    "X_test_mean = imputer.transform(X_test.values)"
   ]
  },
  {
   "cell_type": "code",
   "execution_count": 9,
   "metadata": {
    "collapsed": false
   },
   "outputs": [
    {
     "name": "stdout",
     "output_type": "stream",
     "text": [
      "RandomForestClassifier(bootstrap=True, class_weight=None, criterion='gini',\n",
      "            max_depth=None, max_features='auto', max_leaf_nodes=None,\n",
      "            min_impurity_split=1e-07, min_samples_leaf=1,\n",
      "            min_samples_split=2, min_weight_fraction_leaf=0.0,\n",
      "            n_estimators=100, n_jobs=-1, oob_score=False, random_state=1,\n",
      "            verbose=0, warm_start=False)\n"
     ]
    },
    {
     "data": {
      "text/plain": [
       "0.81565107584450658"
      ]
     },
     "execution_count": 9,
     "metadata": {},
     "output_type": "execute_result"
    }
   ],
   "source": [
    "clf = sken.RandomForestClassifier(n_estimators=100, n_jobs=-1, random_state=1)\n",
    "print(clf)\n",
    "np.mean(skcv.cross_val_score(clf, X_train_mean, Y_train.label.values, scoring='roc_auc', cv=5))"
   ]
  },
  {
   "cell_type": "markdown",
   "metadata": {},
   "source": [
    "## Идеи Алексея\n",
    "\n",
    "Забегая вперед, получается, что заменять NaNы на мин/макс элементы немного перспективнее. Почему - непонятно.\n",
    "\n",
    "### Заменить NaN на нули, снабдить колонки копиями с isNaN-признаком (0/1)"
   ]
  },
  {
   "cell_type": "code",
   "execution_count": 10,
   "metadata": {
    "collapsed": false
   },
   "outputs": [],
   "source": [
    "def denan1(X):\n",
    "    XA = X.copy()\n",
    "    XB = X.copy()\n",
    "    nans = pd.isnull(XB)\n",
    "    XB[nans] = 1\n",
    "    XB[~nans] = 0\n",
    "    #XB.columns = [x + 'N' for x in X2.columns]\n",
    "    XA[nans] = 0\n",
    "    return pd.concat([XA, XB], axis=1)"
   ]
  },
  {
   "cell_type": "code",
   "execution_count": 11,
   "metadata": {
    "collapsed": true
   },
   "outputs": [],
   "source": [
    "X_train_nan1 = denan1(X_train)"
   ]
  },
  {
   "cell_type": "code",
   "execution_count": 12,
   "metadata": {
    "collapsed": false
   },
   "outputs": [
    {
     "name": "stdout",
     "output_type": "stream",
     "text": [
      "RandomForestClassifier(bootstrap=True, class_weight=None, criterion='gini',\n",
      "            max_depth=None, max_features='auto', max_leaf_nodes=None,\n",
      "            min_impurity_split=1e-07, min_samples_leaf=1,\n",
      "            min_samples_split=2, min_weight_fraction_leaf=0.0,\n",
      "            n_estimators=100, n_jobs=-1, oob_score=False, random_state=1,\n",
      "            verbose=0, warm_start=False)\n",
      "[ 0.80781684  0.84461298  0.78029294  0.85674003  0.83965497]\n"
     ]
    },
    {
     "data": {
      "text/plain": [
       "0.82582355230844562"
      ]
     },
     "execution_count": 12,
     "metadata": {},
     "output_type": "execute_result"
    }
   ],
   "source": [
    "clf = sken.RandomForestClassifier(n_estimators=100, n_jobs=-1, random_state=1)\n",
    "print(clf)\n",
    "score1 = skcv.cross_val_score(clf, X_train_nan1, Y_train.label.values, scoring='roc_auc', cv=5)\n",
    "print(score1)\n",
    "np.mean(score1)"
   ]
  },
  {
   "cell_type": "markdown",
   "metadata": {},
   "source": [
    "### Заменить NaN на нули, снабдить колонки копиями с isNaN-признаком (min-1/max+1)"
   ]
  },
  {
   "cell_type": "code",
   "execution_count": 13,
   "metadata": {
    "collapsed": false
   },
   "outputs": [
    {
     "data": {
      "text/html": [
       "<div>\n",
       "<table border=\"1\" class=\"dataframe\">\n",
       "  <thead>\n",
       "    <tr style=\"text-align: right;\">\n",
       "      <th></th>\n",
       "      <th>A</th>\n",
       "      <th>B</th>\n",
       "      <th>A</th>\n",
       "      <th>B</th>\n",
       "    </tr>\n",
       "  </thead>\n",
       "  <tbody>\n",
       "    <tr>\n",
       "      <th>0</th>\n",
       "      <td>4.000000</td>\n",
       "      <td>1.0</td>\n",
       "      <td>4.0</td>\n",
       "      <td>9</td>\n",
       "    </tr>\n",
       "    <tr>\n",
       "      <th>1</th>\n",
       "      <td>2.000000</td>\n",
       "      <td>3.0</td>\n",
       "      <td>4.0</td>\n",
       "      <td>9</td>\n",
       "    </tr>\n",
       "    <tr>\n",
       "      <th>2</th>\n",
       "      <td>4.000000</td>\n",
       "      <td>5.0</td>\n",
       "      <td>4.0</td>\n",
       "      <td>9</td>\n",
       "    </tr>\n",
       "    <tr>\n",
       "      <th>3</th>\n",
       "      <td>3.333333</td>\n",
       "      <td>7.0</td>\n",
       "      <td>2.0</td>\n",
       "      <td>9</td>\n",
       "    </tr>\n",
       "    <tr>\n",
       "      <th>4</th>\n",
       "      <td>3.333333</td>\n",
       "      <td>9.0</td>\n",
       "      <td>2.0</td>\n",
       "      <td>9</td>\n",
       "    </tr>\n",
       "  </tbody>\n",
       "</table>\n",
       "</div>"
      ],
      "text/plain": [
       "          A    B    A  B\n",
       "0  4.000000  1.0  4.0  9\n",
       "1  2.000000  3.0  4.0  9\n",
       "2  4.000000  5.0  4.0  9\n",
       "3  3.333333  7.0  2.0  9\n",
       "4  3.333333  9.0  2.0  9"
      ]
     },
     "execution_count": 13,
     "metadata": {},
     "output_type": "execute_result"
    }
   ],
   "source": [
    "def denan2(X):\n",
    "    XA = X.copy()\n",
    "    XB = X.copy()\n",
    "    for c in XB.columns:\n",
    "        col = XB[c]\n",
    "        cmin,cmax = col.min(), col.max()\n",
    "        nans = pd.isnull(col)\n",
    "        XB.loc[nans,c] = cmin\n",
    "        #XA.loc[nans,c] = cmin\n",
    "        XB.loc[~nans,c] = cmax\n",
    "    #XB.columns = [c+\"N\" for c in X.columns]\n",
    "    imputer = skpp.Imputer(strategy='mean')\n",
    "    XA[:] = imputer.fit_transform(XA.values)\n",
    "    return pd.concat([XA,XB],axis=1)\n",
    "        \n",
    "def test_denan2():\n",
    "    df = pd.DataFrame(np.arange(10).reshape(-1, 2), columns=['A', 'B'])\n",
    "    c = df['A']\n",
    "    c[0] = 4.0\n",
    "    c[c>4] = None\n",
    "    return denan2(df)\n",
    "\n",
    "test_denan2()"
   ]
  },
  {
   "cell_type": "code",
   "execution_count": 14,
   "metadata": {
    "collapsed": true
   },
   "outputs": [],
   "source": [
    "X_train_nan2 = denan2(X_train)"
   ]
  },
  {
   "cell_type": "code",
   "execution_count": 15,
   "metadata": {
    "collapsed": false
   },
   "outputs": [
    {
     "name": "stdout",
     "output_type": "stream",
     "text": [
      "RandomForestClassifier(bootstrap=True, class_weight=None, criterion='gini',\n",
      "            max_depth=5, max_features='auto', max_leaf_nodes=None,\n",
      "            min_impurity_split=1e-07, min_samples_leaf=1,\n",
      "            min_samples_split=2, min_weight_fraction_leaf=0.0,\n",
      "            n_estimators=100, n_jobs=-1, oob_score=False, random_state=1,\n",
      "            verbose=0, warm_start=False)\n",
      "all = 0.834276590238 num = 0.822708000888 cat = 0.837794633849\n"
     ]
    }
   ],
   "source": [
    "clf = sken.RandomForestClassifier(n_estimators=100, max_depth=5, n_jobs=-1, random_state=1)\n",
    "print(clf)\n",
    "score2all = np.mean(skcv.cross_val_score(clf, X_train_nan2[columns_all], Y_train.label.values, scoring='roc_auc', cv=5))\n",
    "score2num = np.mean(skcv.cross_val_score(clf, X_train_nan2[columns_num], Y_train.label.values, scoring='roc_auc', cv=5))\n",
    "score2cat = np.mean(skcv.cross_val_score(clf, X_train_nan2[columns_cat], Y_train.label.values, scoring='roc_auc', cv=5))\n",
    "#score2ocat = np.mean(skcv.cross_val_score(clf, X_train_nan2[columns_ocat], Y_train.label.values, scoring='roc_auc', cv=5))\n",
    "print('all =', score2all, 'num =', score2num, 'cat =', score2cat)"
   ]
  },
  {
   "cell_type": "code",
   "execution_count": 16,
   "metadata": {
    "collapsed": false
   },
   "outputs": [
    {
     "name": "stdout",
     "output_type": "stream",
     "text": [
      "AdaBoostClassifier(algorithm='SAMME.R',\n",
      "          base_estimator=RandomForestClassifier(bootstrap=True, class_weight=None, criterion='gini',\n",
      "            max_depth=5, max_features='auto', max_leaf_nodes=None,\n",
      "            min_impurity_split=1e-07, min_samples_leaf=1,\n",
      "            min_samples_split=2, min_weight_fraction_leaf=0.0,\n",
      "            n_estimators=100, n_jobs=-1, oob_score=False, random_state=1,\n",
      "            verbose=0, warm_start=False),\n",
      "          learning_rate=1.0, n_estimators=50, random_state=None)\n"
     ]
    },
    {
     "data": {
      "text/plain": [
       "0.82885794912497612"
      ]
     },
     "execution_count": 16,
     "metadata": {},
     "output_type": "execute_result"
    }
   ],
   "source": [
    "clf = sken.AdaBoostClassifier(base_estimator=\n",
    "                              sken.RandomForestClassifier(n_estimators=100, max_depth=5, n_jobs=-1, random_state=1))\n",
    "print(clf)\n",
    "np.mean(skcv.cross_val_score(clf, X_train_nan2[columns_all], Y_train.label.values, scoring='roc_auc', cv=5))\n",
    "#score2num = np.mean(skcv.cross_val_score(clf, X_train_nan2[columns_num], Y_train.label.values, scoring='roc_auc', cv=5))\n",
    "#score2cat = np.mean(skcv.cross_val_score(clf, X_train_nan2[columns_cat], Y_train.label.values, scoring='roc_auc', cv=5))\n",
    "#score2ocat = np.mean(skcv.cross_val_score(clf, X_train_nan2[columns_ocat], Y_train.label.values, scoring='roc_auc', cv=5))\n",
    "#print('all =', score2all, 'num =', score2num, 'cat =', score2cat)"
   ]
  },
  {
   "cell_type": "code",
   "execution_count": 17,
   "metadata": {
    "collapsed": false
   },
   "outputs": [
    {
     "data": {
      "text/plain": [
       "{0.0, 0.5, 1.0}"
      ]
     },
     "execution_count": 17,
     "metadata": {},
     "output_type": "execute_result"
    }
   ],
   "source": [
    "set(X_train['V1327'].values)"
   ]
  },
  {
   "cell_type": "markdown",
   "metadata": {},
   "source": [
    "## Обучение SVM"
   ]
  },
  {
   "cell_type": "code",
   "execution_count": 19,
   "metadata": {
    "collapsed": false
   },
   "outputs": [
    {
     "name": "stdout",
     "output_type": "stream",
     "text": [
      "LinearSVR(C=1.0, dual=True, epsilon=0.0, fit_intercept=True,\n",
      "     intercept_scaling=1.0, loss='epsilon_insensitive', max_iter=1000,\n",
      "     random_state=None, tol=0.0001, verbose=0)\n"
     ]
    },
    {
     "data": {
      "text/plain": [
       "array([ 0.81059071,  0.8117899 ,  0.7588017 ,  0.74095469,  0.81183575])"
      ]
     },
     "execution_count": 19,
     "metadata": {},
     "output_type": "execute_result"
    }
   ],
   "source": [
    "clf = sk.svm.LinearSVR()\n",
    "print(clf)\n",
    "skcv.cross_val_score(clf, X_train_nan2[columns_all], Y_train.label.values, scoring='roc_auc', cv=5)"
   ]
  },
  {
   "cell_type": "code",
   "execution_count": 25,
   "metadata": {
    "collapsed": false
   },
   "outputs": [
    {
     "data": {
      "text/plain": [
       "[<matplotlib.lines.Line2D at 0x7f5387256c50>]"
      ]
     },
     "execution_count": 25,
     "metadata": {},
     "output_type": "execute_result"
    },
    {
     "data": {
      "image/png": "[encoded data removed]",
      "text/plain": [
       "<matplotlib.figure.Figure at 0x7f53cdc2eda0>"
      ]
     },
     "metadata": {},
     "output_type": "display_data"
    }
   ],
   "source": [
    "plt.plot(clf.coef_)\n"
   ]
  },
  {
   "cell_type": "markdown",
   "metadata": {},
   "source": [
    "## Попытка создать свой комбинированный предсказатель"
   ]
  },
  {
   "cell_type": "code",
   "execution_count": 194,
   "metadata": {
    "collapsed": true
   },
   "outputs": [],
   "source": [
    "from sklearn.base import BaseEstimator, ClassifierMixin"
   ]
  },
  {
   "cell_type": "code",
   "execution_count": 195,
   "metadata": {
    "collapsed": false
   },
   "outputs": [
    {
     "data": {
      "text/plain": [
       "array([ 0.74629972,  0.74540227,  0.68335939,  0.77069789,  0.7577152 ])"
      ]
     },
     "execution_count": 195,
     "metadata": {},
     "output_type": "execute_result"
    }
   ],
   "source": [
    "class MyClassifier(BaseEstimator, ClassifierMixin):  \n",
    "    def __init__(self):\n",
    "        self.clf =  sk.svm.SVC()\n",
    "\n",
    "    def fit(self, X, y=None):\n",
    "        return self.clf.fit(X,y)\n",
    "\n",
    "    def predict(self, X, y=None):\n",
    "        return self.clf.predict(X,y)\n",
    "    \n",
    "    def predict_proba(self, X, y=None):\n",
    "        return self.clf.predict_proba(X,y)\n",
    "\n",
    "    def score(self, X, y=None):\n",
    "        return self.clf.score(X,y) \n",
    "    \n",
    "    def decision_function(self,X):\n",
    "        return self.clf.decision_function(X)\n",
    "\n",
    "\n",
    "\n",
    "clf = MyClassifier()\n",
    "skcv.cross_val_score(clf, X_train_nan2[columns_num], Y_train.label.values, scoring='roc_auc', cv=5)"
   ]
  },
  {
   "cell_type": "code",
   "execution_count": null,
   "metadata": {
    "collapsed": true
   },
   "outputs": [],
   "source": []
  }
 ],
 "metadata": {
  "kernelspec": {
   "display_name": "Python 3",
   "language": "python",
   "name": "python3"
  },
  "language_info": {
   "codemirror_mode": {
    "name": "ipython",
    "version": 3
   },
   "file_extension": ".py",
   "mimetype": "text/x-python",
   "name": "python",
   "nbconvert_exporter": "python",
   "pygments_lexer": "ipython3",
   "version": "3.5.2"
  }
 },
 "nbformat": 4,
 "nbformat_minor": 0
}
