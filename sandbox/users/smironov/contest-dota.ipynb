{
 "cells": [
  {
   "cell_type": "code",
   "execution_count": 12,
   "metadata": {
    "collapsed": true
   },
   "outputs": [],
   "source": [
    "import pandas as pd\n",
    "import numpy as np\n",
    "import matplotlib.pyplot as plt\n",
    "\n",
    "# For sklearn 0.18\n",
    "# import sklearn.model_selection as skcv\n",
    "import sklearn.cross_validation as skcv\n",
    "import sklearn.ensemble as sk"
   ]
  },
  {
   "cell_type": "markdown",
   "metadata": {},
   "source": [
    "## Вопросы\n",
    "* Как работает roc_auc, где у классификатора переменный порог?\n",
    "* ~~Как работает кросс-валидация, можно ли (нужно ли?) получить обученный классификатор?~~ По идее, учить сразу на всех тестовых данных лучше всего, кросс-валидировать можно и отдельно."
   ]
  },
  {
   "cell_type": "markdown",
   "metadata": {},
   "source": [
    "## Данные"
   ]
  },
  {
   "cell_type": "markdown",
   "metadata": {},
   "source": [
    "### Gold.csv\n",
    "\n",
    "Данный файл содержит снимки данных игры, содержащих количество золота для каждого игрока.\n",
    "\n",
    "Каждая строчка файла содержит следующие колонки:\n",
    "\n",
    "    mid — идентификатор матча\n",
    "    times — время в секундах когда был сделан снимок\n",
    "    player_0, player_1, player_2, player_3, player_4 — количество золота для игроков команды radiant\n",
    "    player_5, player_6, player_7, player_8, player_9 — количество золота для игроков команды dire"
   ]
  },
  {
   "cell_type": "code",
   "execution_count": 13,
   "metadata": {
    "collapsed": false
   },
   "outputs": [
    {
     "data": {
      "text/html": [
       "<div>\n",
       "<table border=\"1\" class=\"dataframe\">\n",
       "  <thead>\n",
       "    <tr style=\"text-align: right;\">\n",
       "      <th></th>\n",
       "      <th>mid</th>\n",
       "      <th>times</th>\n",
       "      <th>player_0</th>\n",
       "      <th>player_1</th>\n",
       "      <th>player_2</th>\n",
       "      <th>player_3</th>\n",
       "      <th>player_4</th>\n",
       "      <th>player_5</th>\n",
       "      <th>player_6</th>\n",
       "      <th>player_7</th>\n",
       "      <th>player_8</th>\n",
       "      <th>player_9</th>\n",
       "    </tr>\n",
       "  </thead>\n",
       "  <tbody>\n",
       "    <tr>\n",
       "      <th>0</th>\n",
       "      <td>0</td>\n",
       "      <td>60</td>\n",
       "      <td>750</td>\n",
       "      <td>350</td>\n",
       "      <td>389</td>\n",
       "      <td>437</td>\n",
       "      <td>428</td>\n",
       "      <td>398</td>\n",
       "      <td>344</td>\n",
       "      <td>654</td>\n",
       "      <td>287</td>\n",
       "      <td>1056</td>\n",
       "    </tr>\n",
       "    <tr>\n",
       "      <th>1</th>\n",
       "      <td>0</td>\n",
       "      <td>120</td>\n",
       "      <td>957</td>\n",
       "      <td>1071</td>\n",
       "      <td>633</td>\n",
       "      <td>655</td>\n",
       "      <td>1080</td>\n",
       "      <td>669</td>\n",
       "      <td>1147</td>\n",
       "      <td>1164</td>\n",
       "      <td>438</td>\n",
       "      <td>1360</td>\n",
       "    </tr>\n",
       "    <tr>\n",
       "      <th>2</th>\n",
       "      <td>0</td>\n",
       "      <td>180</td>\n",
       "      <td>1161</td>\n",
       "      <td>1527</td>\n",
       "      <td>782</td>\n",
       "      <td>1103</td>\n",
       "      <td>1346</td>\n",
       "      <td>1058</td>\n",
       "      <td>1479</td>\n",
       "      <td>1574</td>\n",
       "      <td>587</td>\n",
       "      <td>2072</td>\n",
       "    </tr>\n",
       "    <tr>\n",
       "      <th>3</th>\n",
       "      <td>0</td>\n",
       "      <td>240</td>\n",
       "      <td>1571</td>\n",
       "      <td>2033</td>\n",
       "      <td>932</td>\n",
       "      <td>1515</td>\n",
       "      <td>2058</td>\n",
       "      <td>1760</td>\n",
       "      <td>1767</td>\n",
       "      <td>2387</td>\n",
       "      <td>737</td>\n",
       "      <td>2283</td>\n",
       "    </tr>\n",
       "    <tr>\n",
       "      <th>4</th>\n",
       "      <td>0</td>\n",
       "      <td>300</td>\n",
       "      <td>1721</td>\n",
       "      <td>2313</td>\n",
       "      <td>1082</td>\n",
       "      <td>1790</td>\n",
       "      <td>2699</td>\n",
       "      <td>2087</td>\n",
       "      <td>1986</td>\n",
       "      <td>2898</td>\n",
       "      <td>887</td>\n",
       "      <td>3302</td>\n",
       "    </tr>\n",
       "    <tr>\n",
       "      <th>5</th>\n",
       "      <td>0</td>\n",
       "      <td>360</td>\n",
       "      <td>1871</td>\n",
       "      <td>2753</td>\n",
       "      <td>1232</td>\n",
       "      <td>2126</td>\n",
       "      <td>3645</td>\n",
       "      <td>2417</td>\n",
       "      <td>2382</td>\n",
       "      <td>3416</td>\n",
       "      <td>1037</td>\n",
       "      <td>4071</td>\n",
       "    </tr>\n",
       "    <tr>\n",
       "      <th>6</th>\n",
       "      <td>0</td>\n",
       "      <td>420</td>\n",
       "      <td>2022</td>\n",
       "      <td>3216</td>\n",
       "      <td>1382</td>\n",
       "      <td>2703</td>\n",
       "      <td>4176</td>\n",
       "      <td>2567</td>\n",
       "      <td>2778</td>\n",
       "      <td>4115</td>\n",
       "      <td>1187</td>\n",
       "      <td>4686</td>\n",
       "    </tr>\n",
       "    <tr>\n",
       "      <th>7</th>\n",
       "      <td>0</td>\n",
       "      <td>480</td>\n",
       "      <td>2850</td>\n",
       "      <td>3941</td>\n",
       "      <td>2129</td>\n",
       "      <td>3249</td>\n",
       "      <td>5040</td>\n",
       "      <td>2717</td>\n",
       "      <td>3326</td>\n",
       "      <td>4931</td>\n",
       "      <td>1424</td>\n",
       "      <td>5207</td>\n",
       "    </tr>\n",
       "    <tr>\n",
       "      <th>8</th>\n",
       "      <td>0</td>\n",
       "      <td>540</td>\n",
       "      <td>3303</td>\n",
       "      <td>4686</td>\n",
       "      <td>2402</td>\n",
       "      <td>3716</td>\n",
       "      <td>5546</td>\n",
       "      <td>3428</td>\n",
       "      <td>3596</td>\n",
       "      <td>5580</td>\n",
       "      <td>1574</td>\n",
       "      <td>5609</td>\n",
       "    </tr>\n",
       "    <tr>\n",
       "      <th>9</th>\n",
       "      <td>0</td>\n",
       "      <td>600</td>\n",
       "      <td>3454</td>\n",
       "      <td>5206</td>\n",
       "      <td>2613</td>\n",
       "      <td>4426</td>\n",
       "      <td>5755</td>\n",
       "      <td>4072</td>\n",
       "      <td>3997</td>\n",
       "      <td>5917</td>\n",
       "      <td>1725</td>\n",
       "      <td>6384</td>\n",
       "    </tr>\n",
       "    <tr>\n",
       "      <th>10</th>\n",
       "      <td>1</td>\n",
       "      <td>60</td>\n",
       "      <td>285</td>\n",
       "      <td>344</td>\n",
       "      <td>285</td>\n",
       "      <td>404</td>\n",
       "      <td>557</td>\n",
       "      <td>1035</td>\n",
       "      <td>411</td>\n",
       "      <td>285</td>\n",
       "      <td>350</td>\n",
       "      <td>513</td>\n",
       "    </tr>\n",
       "    <tr>\n",
       "      <th>11</th>\n",
       "      <td>1</td>\n",
       "      <td>120</td>\n",
       "      <td>435</td>\n",
       "      <td>674</td>\n",
       "      <td>557</td>\n",
       "      <td>626</td>\n",
       "      <td>950</td>\n",
       "      <td>1343</td>\n",
       "      <td>624</td>\n",
       "      <td>435</td>\n",
       "      <td>863</td>\n",
       "      <td>851</td>\n",
       "    </tr>\n",
       "    <tr>\n",
       "      <th>12</th>\n",
       "      <td>1</td>\n",
       "      <td>180</td>\n",
       "      <td>585</td>\n",
       "      <td>1253</td>\n",
       "      <td>798</td>\n",
       "      <td>776</td>\n",
       "      <td>1473</td>\n",
       "      <td>2108</td>\n",
       "      <td>1071</td>\n",
       "      <td>585</td>\n",
       "      <td>1328</td>\n",
       "      <td>1239</td>\n",
       "    </tr>\n",
       "    <tr>\n",
       "      <th>13</th>\n",
       "      <td>1</td>\n",
       "      <td>240</td>\n",
       "      <td>736</td>\n",
       "      <td>1857</td>\n",
       "      <td>1665</td>\n",
       "      <td>1114</td>\n",
       "      <td>2103</td>\n",
       "      <td>2929</td>\n",
       "      <td>1293</td>\n",
       "      <td>736</td>\n",
       "      <td>1536</td>\n",
       "      <td>1840</td>\n",
       "    </tr>\n",
       "    <tr>\n",
       "      <th>14</th>\n",
       "      <td>1</td>\n",
       "      <td>300</td>\n",
       "      <td>1334</td>\n",
       "      <td>2355</td>\n",
       "      <td>1814</td>\n",
       "      <td>1562</td>\n",
       "      <td>2498</td>\n",
       "      <td>4043</td>\n",
       "      <td>1503</td>\n",
       "      <td>1010</td>\n",
       "      <td>2186</td>\n",
       "      <td>2052</td>\n",
       "    </tr>\n",
       "    <tr>\n",
       "      <th>15</th>\n",
       "      <td>1</td>\n",
       "      <td>360</td>\n",
       "      <td>1667</td>\n",
       "      <td>2915</td>\n",
       "      <td>1964</td>\n",
       "      <td>2205</td>\n",
       "      <td>3483</td>\n",
       "      <td>5015</td>\n",
       "      <td>2721</td>\n",
       "      <td>1160</td>\n",
       "      <td>2423</td>\n",
       "      <td>2321</td>\n",
       "    </tr>\n",
       "    <tr>\n",
       "      <th>16</th>\n",
       "      <td>1</td>\n",
       "      <td>420</td>\n",
       "      <td>1818</td>\n",
       "      <td>3726</td>\n",
       "      <td>2746</td>\n",
       "      <td>2415</td>\n",
       "      <td>4174</td>\n",
       "      <td>5254</td>\n",
       "      <td>3301</td>\n",
       "      <td>1779</td>\n",
       "      <td>2946</td>\n",
       "      <td>3214</td>\n",
       "    </tr>\n",
       "    <tr>\n",
       "      <th>17</th>\n",
       "      <td>1</td>\n",
       "      <td>480</td>\n",
       "      <td>2016</td>\n",
       "      <td>4541</td>\n",
       "      <td>3264</td>\n",
       "      <td>3231</td>\n",
       "      <td>4617</td>\n",
       "      <td>5889</td>\n",
       "      <td>3950</td>\n",
       "      <td>1928</td>\n",
       "      <td>3321</td>\n",
       "      <td>3603</td>\n",
       "    </tr>\n",
       "    <tr>\n",
       "      <th>18</th>\n",
       "      <td>1</td>\n",
       "      <td>540</td>\n",
       "      <td>2328</td>\n",
       "      <td>4996</td>\n",
       "      <td>3667</td>\n",
       "      <td>3624</td>\n",
       "      <td>5424</td>\n",
       "      <td>7146</td>\n",
       "      <td>4351</td>\n",
       "      <td>2079</td>\n",
       "      <td>4096</td>\n",
       "      <td>4062</td>\n",
       "    </tr>\n",
       "    <tr>\n",
       "      <th>19</th>\n",
       "      <td>1</td>\n",
       "      <td>600</td>\n",
       "      <td>2477</td>\n",
       "      <td>5760</td>\n",
       "      <td>3816</td>\n",
       "      <td>4353</td>\n",
       "      <td>5759</td>\n",
       "      <td>7659</td>\n",
       "      <td>5066</td>\n",
       "      <td>2748</td>\n",
       "      <td>4440</td>\n",
       "      <td>4623</td>\n",
       "    </tr>\n",
       "  </tbody>\n",
       "</table>\n",
       "</div>"
      ],
      "text/plain": [
       "    mid  times  player_0  player_1  player_2  player_3  player_4  player_5  \\\n",
       "0     0     60       750       350       389       437       428       398   \n",
       "1     0    120       957      1071       633       655      1080       669   \n",
       "2     0    180      1161      1527       782      1103      1346      1058   \n",
       "3     0    240      1571      2033       932      1515      2058      1760   \n",
       "4     0    300      1721      2313      1082      1790      2699      2087   \n",
       "5     0    360      1871      2753      1232      2126      3645      2417   \n",
       "6     0    420      2022      3216      1382      2703      4176      2567   \n",
       "7     0    480      2850      3941      2129      3249      5040      2717   \n",
       "8     0    540      3303      4686      2402      3716      5546      3428   \n",
       "9     0    600      3454      5206      2613      4426      5755      4072   \n",
       "10    1     60       285       344       285       404       557      1035   \n",
       "11    1    120       435       674       557       626       950      1343   \n",
       "12    1    180       585      1253       798       776      1473      2108   \n",
       "13    1    240       736      1857      1665      1114      2103      2929   \n",
       "14    1    300      1334      2355      1814      1562      2498      4043   \n",
       "15    1    360      1667      2915      1964      2205      3483      5015   \n",
       "16    1    420      1818      3726      2746      2415      4174      5254   \n",
       "17    1    480      2016      4541      3264      3231      4617      5889   \n",
       "18    1    540      2328      4996      3667      3624      5424      7146   \n",
       "19    1    600      2477      5760      3816      4353      5759      7659   \n",
       "\n",
       "    player_6  player_7  player_8  player_9  \n",
       "0        344       654       287      1056  \n",
       "1       1147      1164       438      1360  \n",
       "2       1479      1574       587      2072  \n",
       "3       1767      2387       737      2283  \n",
       "4       1986      2898       887      3302  \n",
       "5       2382      3416      1037      4071  \n",
       "6       2778      4115      1187      4686  \n",
       "7       3326      4931      1424      5207  \n",
       "8       3596      5580      1574      5609  \n",
       "9       3997      5917      1725      6384  \n",
       "10       411       285       350       513  \n",
       "11       624       435       863       851  \n",
       "12      1071       585      1328      1239  \n",
       "13      1293       736      1536      1840  \n",
       "14      1503      1010      2186      2052  \n",
       "15      2721      1160      2423      2321  \n",
       "16      3301      1779      2946      3214  \n",
       "17      3950      1928      3321      3603  \n",
       "18      4351      2079      4096      4062  \n",
       "19      5066      2748      4440      4623  "
      ]
     },
     "execution_count": 13,
     "metadata": {},
     "output_type": "execute_result"
    }
   ],
   "source": [
    "gold = pd.read_csv('cont_01/gold.csv')\n",
    "gold.head(20)"
   ]
  },
  {
   "cell_type": "code",
   "execution_count": 14,
   "metadata": {
    "collapsed": false
   },
   "outputs": [
    {
     "data": {
      "text/html": [
       "<div>\n",
       "<table border=\"1\" class=\"dataframe\">\n",
       "  <thead>\n",
       "    <tr style=\"text-align: right;\">\n",
       "      <th></th>\n",
       "      <th>mid</th>\n",
       "      <th>radiant_won</th>\n",
       "    </tr>\n",
       "  </thead>\n",
       "  <tbody>\n",
       "    <tr>\n",
       "      <th>0</th>\n",
       "      <td>0</td>\n",
       "      <td>1</td>\n",
       "    </tr>\n",
       "    <tr>\n",
       "      <th>1</th>\n",
       "      <td>1</td>\n",
       "      <td>0</td>\n",
       "    </tr>\n",
       "    <tr>\n",
       "      <th>2</th>\n",
       "      <td>2</td>\n",
       "      <td>1</td>\n",
       "    </tr>\n",
       "    <tr>\n",
       "      <th>3</th>\n",
       "      <td>4</td>\n",
       "      <td>1</td>\n",
       "    </tr>\n",
       "    <tr>\n",
       "      <th>4</th>\n",
       "      <td>5</td>\n",
       "      <td>1</td>\n",
       "    </tr>\n",
       "    <tr>\n",
       "      <th>5</th>\n",
       "      <td>6</td>\n",
       "      <td>1</td>\n",
       "    </tr>\n",
       "    <tr>\n",
       "      <th>6</th>\n",
       "      <td>8</td>\n",
       "      <td>0</td>\n",
       "    </tr>\n",
       "    <tr>\n",
       "      <th>7</th>\n",
       "      <td>11</td>\n",
       "      <td>0</td>\n",
       "    </tr>\n",
       "    <tr>\n",
       "      <th>8</th>\n",
       "      <td>20</td>\n",
       "      <td>1</td>\n",
       "    </tr>\n",
       "    <tr>\n",
       "      <th>9</th>\n",
       "      <td>26</td>\n",
       "      <td>1</td>\n",
       "    </tr>\n",
       "  </tbody>\n",
       "</table>\n",
       "</div>"
      ],
      "text/plain": [
       "   mid  radiant_won\n",
       "0    0            1\n",
       "1    1            0\n",
       "2    2            1\n",
       "3    4            1\n",
       "4    5            1\n",
       "5    6            1\n",
       "6    8            0\n",
       "7   11            0\n",
       "8   20            1\n",
       "9   26            1"
      ]
     },
     "execution_count": 14,
     "metadata": {},
     "output_type": "execute_result"
    }
   ],
   "source": [
    "\n",
    "train = pd.read_csv('cont_01/train.csv')\n",
    "train.head(10)"
   ]
  },
  {
   "cell_type": "markdown",
   "metadata": {},
   "source": [
    "### lh.csv\n",
    "\n",
    "Данный файл содержит снимки данных, содержащих количество убитых нейтральных монстров (крипов) для каждого игрока.\n",
    "Каждая строчка файла содержит следующие колонки:\n",
    "\n",
    "    mid — идентификатор матча\n",
    "    times — время в секундах когда был сделан снимок\n",
    "    player_0, player_1, player_2, player_3, player_4 — количество убитых монстров для игроков команды radiant\n",
    "    player_5, player_6, player_7, player_8, player_9 — количество убитых монстров для игроков команды dire\n"
   ]
  },
  {
   "cell_type": "code",
   "execution_count": 15,
   "metadata": {
    "collapsed": false
   },
   "outputs": [
    {
     "data": {
      "text/html": [
       "<div>\n",
       "<table border=\"1\" class=\"dataframe\">\n",
       "  <thead>\n",
       "    <tr style=\"text-align: right;\">\n",
       "      <th></th>\n",
       "      <th>mid</th>\n",
       "      <th>times</th>\n",
       "      <th>player_0</th>\n",
       "      <th>player_1</th>\n",
       "      <th>player_2</th>\n",
       "      <th>player_3</th>\n",
       "      <th>player_4</th>\n",
       "      <th>player_5</th>\n",
       "      <th>player_6</th>\n",
       "      <th>player_7</th>\n",
       "      <th>player_8</th>\n",
       "      <th>player_9</th>\n",
       "    </tr>\n",
       "  </thead>\n",
       "  <tbody>\n",
       "    <tr>\n",
       "      <th>0</th>\n",
       "      <td>0</td>\n",
       "      <td>60</td>\n",
       "      <td>1</td>\n",
       "      <td>2</td>\n",
       "      <td>1</td>\n",
       "      <td>1</td>\n",
       "      <td>2</td>\n",
       "      <td>3</td>\n",
       "      <td>2</td>\n",
       "      <td>7</td>\n",
       "      <td>1</td>\n",
       "      <td>2</td>\n",
       "    </tr>\n",
       "    <tr>\n",
       "      <th>1</th>\n",
       "      <td>0</td>\n",
       "      <td>120</td>\n",
       "      <td>1</td>\n",
       "      <td>5</td>\n",
       "      <td>1</td>\n",
       "      <td>2</td>\n",
       "      <td>6</td>\n",
       "      <td>5</td>\n",
       "      <td>6</td>\n",
       "      <td>14</td>\n",
       "      <td>1</td>\n",
       "      <td>6</td>\n",
       "    </tr>\n",
       "    <tr>\n",
       "      <th>2</th>\n",
       "      <td>0</td>\n",
       "      <td>180</td>\n",
       "      <td>2</td>\n",
       "      <td>10</td>\n",
       "      <td>1</td>\n",
       "      <td>7</td>\n",
       "      <td>8</td>\n",
       "      <td>9</td>\n",
       "      <td>9</td>\n",
       "      <td>18</td>\n",
       "      <td>1</td>\n",
       "      <td>9</td>\n",
       "    </tr>\n",
       "    <tr>\n",
       "      <th>3</th>\n",
       "      <td>0</td>\n",
       "      <td>240</td>\n",
       "      <td>2</td>\n",
       "      <td>13</td>\n",
       "      <td>1</td>\n",
       "      <td>13</td>\n",
       "      <td>12</td>\n",
       "      <td>9</td>\n",
       "      <td>12</td>\n",
       "      <td>29</td>\n",
       "      <td>1</td>\n",
       "      <td>10</td>\n",
       "    </tr>\n",
       "    <tr>\n",
       "      <th>4</th>\n",
       "      <td>0</td>\n",
       "      <td>300</td>\n",
       "      <td>2</td>\n",
       "      <td>15</td>\n",
       "      <td>1</td>\n",
       "      <td>17</td>\n",
       "      <td>19</td>\n",
       "      <td>13</td>\n",
       "      <td>13</td>\n",
       "      <td>36</td>\n",
       "      <td>1</td>\n",
       "      <td>19</td>\n",
       "    </tr>\n",
       "    <tr>\n",
       "      <th>5</th>\n",
       "      <td>0</td>\n",
       "      <td>360</td>\n",
       "      <td>2</td>\n",
       "      <td>20</td>\n",
       "      <td>1</td>\n",
       "      <td>20</td>\n",
       "      <td>24</td>\n",
       "      <td>16</td>\n",
       "      <td>17</td>\n",
       "      <td>42</td>\n",
       "      <td>1</td>\n",
       "      <td>31</td>\n",
       "    </tr>\n",
       "    <tr>\n",
       "      <th>6</th>\n",
       "      <td>0</td>\n",
       "      <td>420</td>\n",
       "      <td>3</td>\n",
       "      <td>26</td>\n",
       "      <td>1</td>\n",
       "      <td>28</td>\n",
       "      <td>30</td>\n",
       "      <td>16</td>\n",
       "      <td>21</td>\n",
       "      <td>52</td>\n",
       "      <td>1</td>\n",
       "      <td>31</td>\n",
       "    </tr>\n",
       "    <tr>\n",
       "      <th>7</th>\n",
       "      <td>0</td>\n",
       "      <td>480</td>\n",
       "      <td>4</td>\n",
       "      <td>36</td>\n",
       "      <td>1</td>\n",
       "      <td>36</td>\n",
       "      <td>35</td>\n",
       "      <td>16</td>\n",
       "      <td>28</td>\n",
       "      <td>63</td>\n",
       "      <td>2</td>\n",
       "      <td>36</td>\n",
       "    </tr>\n",
       "    <tr>\n",
       "      <th>8</th>\n",
       "      <td>0</td>\n",
       "      <td>540</td>\n",
       "      <td>4</td>\n",
       "      <td>37</td>\n",
       "      <td>2</td>\n",
       "      <td>43</td>\n",
       "      <td>40</td>\n",
       "      <td>25</td>\n",
       "      <td>30</td>\n",
       "      <td>72</td>\n",
       "      <td>2</td>\n",
       "      <td>38</td>\n",
       "    </tr>\n",
       "    <tr>\n",
       "      <th>9</th>\n",
       "      <td>0</td>\n",
       "      <td>600</td>\n",
       "      <td>4</td>\n",
       "      <td>43</td>\n",
       "      <td>3</td>\n",
       "      <td>57</td>\n",
       "      <td>41</td>\n",
       "      <td>34</td>\n",
       "      <td>35</td>\n",
       "      <td>75</td>\n",
       "      <td>2</td>\n",
       "      <td>46</td>\n",
       "    </tr>\n",
       "  </tbody>\n",
       "</table>\n",
       "</div>"
      ],
      "text/plain": [
       "   mid  times  player_0  player_1  player_2  player_3  player_4  player_5  \\\n",
       "0    0     60         1         2         1         1         2         3   \n",
       "1    0    120         1         5         1         2         6         5   \n",
       "2    0    180         2        10         1         7         8         9   \n",
       "3    0    240         2        13         1        13        12         9   \n",
       "4    0    300         2        15         1        17        19        13   \n",
       "5    0    360         2        20         1        20        24        16   \n",
       "6    0    420         3        26         1        28        30        16   \n",
       "7    0    480         4        36         1        36        35        16   \n",
       "8    0    540         4        37         2        43        40        25   \n",
       "9    0    600         4        43         3        57        41        34   \n",
       "\n",
       "   player_6  player_7  player_8  player_9  \n",
       "0         2         7         1         2  \n",
       "1         6        14         1         6  \n",
       "2         9        18         1         9  \n",
       "3        12        29         1        10  \n",
       "4        13        36         1        19  \n",
       "5        17        42         1        31  \n",
       "6        21        52         1        31  \n",
       "7        28        63         2        36  \n",
       "8        30        72         2        38  \n",
       "9        35        75         2        46  "
      ]
     },
     "execution_count": 15,
     "metadata": {},
     "output_type": "execute_result"
    }
   ],
   "source": [
    "lh = pd.read_csv('cont_01/lh.csv')\n",
    "lh.head(10)"
   ]
  },
  {
   "cell_type": "code",
   "execution_count": 16,
   "metadata": {
    "collapsed": false,
    "scrolled": true
   },
   "outputs": [
    {
     "data": {
      "text/html": [
       "<div>\n",
       "<table border=\"1\" class=\"dataframe\">\n",
       "  <thead>\n",
       "    <tr style=\"text-align: right;\">\n",
       "      <th></th>\n",
       "      <th>mid</th>\n",
       "      <th>event_type</th>\n",
       "      <th>from_team</th>\n",
       "      <th>time</th>\n",
       "    </tr>\n",
       "  </thead>\n",
       "  <tbody>\n",
       "    <tr>\n",
       "      <th>0</th>\n",
       "      <td>0</td>\n",
       "      <td>3</td>\n",
       "      <td>radiant</td>\n",
       "      <td>1</td>\n",
       "    </tr>\n",
       "    <tr>\n",
       "      <th>1</th>\n",
       "      <td>1</td>\n",
       "      <td>3</td>\n",
       "      <td>radiant</td>\n",
       "      <td>222</td>\n",
       "    </tr>\n",
       "    <tr>\n",
       "      <th>2</th>\n",
       "      <td>2</td>\n",
       "      <td>3</td>\n",
       "      <td>dire</td>\n",
       "      <td>143</td>\n",
       "    </tr>\n",
       "    <tr>\n",
       "      <th>3</th>\n",
       "      <td>3</td>\n",
       "      <td>3</td>\n",
       "      <td>radiant</td>\n",
       "      <td>143</td>\n",
       "    </tr>\n",
       "    <tr>\n",
       "      <th>4</th>\n",
       "      <td>4</td>\n",
       "      <td>3</td>\n",
       "      <td>dire</td>\n",
       "      <td>53</td>\n",
       "    </tr>\n",
       "    <tr>\n",
       "      <th>5</th>\n",
       "      <td>6</td>\n",
       "      <td>3</td>\n",
       "      <td>radiant</td>\n",
       "      <td>82</td>\n",
       "    </tr>\n",
       "    <tr>\n",
       "      <th>6</th>\n",
       "      <td>6</td>\n",
       "      <td>6</td>\n",
       "      <td>radiant</td>\n",
       "      <td>523</td>\n",
       "    </tr>\n",
       "    <tr>\n",
       "      <th>7</th>\n",
       "      <td>7</td>\n",
       "      <td>3</td>\n",
       "      <td>dire</td>\n",
       "      <td>77</td>\n",
       "    </tr>\n",
       "    <tr>\n",
       "      <th>8</th>\n",
       "      <td>7</td>\n",
       "      <td>6</td>\n",
       "      <td>radiant</td>\n",
       "      <td>283</td>\n",
       "    </tr>\n",
       "    <tr>\n",
       "      <th>9</th>\n",
       "      <td>7</td>\n",
       "      <td>6</td>\n",
       "      <td>radiant</td>\n",
       "      <td>595</td>\n",
       "    </tr>\n",
       "  </tbody>\n",
       "</table>\n",
       "</div>"
      ],
      "text/plain": [
       "   mid  event_type from_team  time\n",
       "0    0           3   radiant     1\n",
       "1    1           3   radiant   222\n",
       "2    2           3      dire   143\n",
       "3    3           3   radiant   143\n",
       "4    4           3      dire    53\n",
       "5    6           3   radiant    82\n",
       "6    6           6   radiant   523\n",
       "7    7           3      dire    77\n",
       "8    7           6   radiant   283\n",
       "9    7           6   radiant   595"
      ]
     },
     "execution_count": 16,
     "metadata": {},
     "output_type": "execute_result"
    }
   ],
   "source": [
    "events = pd.read_csv('cont_01/events.csv')\n",
    "events.head(10)"
   ]
  },
  {
   "cell_type": "markdown",
   "metadata": {},
   "source": [
    "## Обработка"
   ]
  },
  {
   "cell_type": "code",
   "execution_count": 17,
   "metadata": {
    "collapsed": false
   },
   "outputs": [
    {
     "name": "stdout",
     "output_type": "stream",
     "text": [
      "['player_0', 'player_1', 'player_2', 'player_3', 'player_4'] ['player_5', 'player_6', 'player_7', 'player_8', 'player_9']\n"
     ]
    }
   ],
   "source": [
    "team0 = ['player_%s'%t for t in range(0,5)]\n",
    "team1 = ['player_%s'%t for t in range(5,10)]\n",
    "print(team0,team1)"
   ]
  },
  {
   "cell_type": "code",
   "execution_count": 18,
   "metadata": {
    "collapsed": false
   },
   "outputs": [
    {
     "data": {
      "text/html": [
       "<div>\n",
       "<table border=\"1\" class=\"dataframe\">\n",
       "  <thead>\n",
       "    <tr style=\"text-align: right;\">\n",
       "      <th></th>\n",
       "      <th>mid</th>\n",
       "      <th>player_0</th>\n",
       "      <th>player_1</th>\n",
       "      <th>player_2</th>\n",
       "      <th>player_3</th>\n",
       "      <th>player_4</th>\n",
       "      <th>player_5</th>\n",
       "      <th>player_6</th>\n",
       "      <th>player_7</th>\n",
       "      <th>player_8</th>\n",
       "      <th>player_9</th>\n",
       "      <th>lh_team0</th>\n",
       "      <th>lh_team1</th>\n",
       "      <th>lh_ratio</th>\n",
       "    </tr>\n",
       "  </thead>\n",
       "  <tbody>\n",
       "    <tr>\n",
       "      <th>9</th>\n",
       "      <td>0</td>\n",
       "      <td>4</td>\n",
       "      <td>43</td>\n",
       "      <td>3</td>\n",
       "      <td>57</td>\n",
       "      <td>41</td>\n",
       "      <td>34</td>\n",
       "      <td>35</td>\n",
       "      <td>75</td>\n",
       "      <td>2</td>\n",
       "      <td>46</td>\n",
       "      <td>148</td>\n",
       "      <td>192</td>\n",
       "      <td>0.770833</td>\n",
       "    </tr>\n",
       "    <tr>\n",
       "      <th>19</th>\n",
       "      <td>1</td>\n",
       "      <td>5</td>\n",
       "      <td>63</td>\n",
       "      <td>14</td>\n",
       "      <td>28</td>\n",
       "      <td>47</td>\n",
       "      <td>49</td>\n",
       "      <td>23</td>\n",
       "      <td>3</td>\n",
       "      <td>30</td>\n",
       "      <td>39</td>\n",
       "      <td>157</td>\n",
       "      <td>144</td>\n",
       "      <td>1.090278</td>\n",
       "    </tr>\n",
       "    <tr>\n",
       "      <th>29</th>\n",
       "      <td>2</td>\n",
       "      <td>34</td>\n",
       "      <td>6</td>\n",
       "      <td>69</td>\n",
       "      <td>42</td>\n",
       "      <td>23</td>\n",
       "      <td>6</td>\n",
       "      <td>12</td>\n",
       "      <td>56</td>\n",
       "      <td>13</td>\n",
       "      <td>12</td>\n",
       "      <td>174</td>\n",
       "      <td>99</td>\n",
       "      <td>1.757576</td>\n",
       "    </tr>\n",
       "    <tr>\n",
       "      <th>39</th>\n",
       "      <td>3</td>\n",
       "      <td>1</td>\n",
       "      <td>49</td>\n",
       "      <td>48</td>\n",
       "      <td>3</td>\n",
       "      <td>31</td>\n",
       "      <td>28</td>\n",
       "      <td>51</td>\n",
       "      <td>6</td>\n",
       "      <td>50</td>\n",
       "      <td>8</td>\n",
       "      <td>132</td>\n",
       "      <td>143</td>\n",
       "      <td>0.923077</td>\n",
       "    </tr>\n",
       "    <tr>\n",
       "      <th>49</th>\n",
       "      <td>4</td>\n",
       "      <td>30</td>\n",
       "      <td>41</td>\n",
       "      <td>45</td>\n",
       "      <td>23</td>\n",
       "      <td>4</td>\n",
       "      <td>26</td>\n",
       "      <td>9</td>\n",
       "      <td>23</td>\n",
       "      <td>37</td>\n",
       "      <td>6</td>\n",
       "      <td>143</td>\n",
       "      <td>101</td>\n",
       "      <td>1.415842</td>\n",
       "    </tr>\n",
       "  </tbody>\n",
       "</table>\n",
       "</div>"
      ],
      "text/plain": [
       "    mid  player_0  player_1  player_2  player_3  player_4  player_5  player_6  \\\n",
       "9     0         4        43         3        57        41        34        35   \n",
       "19    1         5        63        14        28        47        49        23   \n",
       "29    2        34         6        69        42        23         6        12   \n",
       "39    3         1        49        48         3        31        28        51   \n",
       "49    4        30        41        45        23         4        26         9   \n",
       "\n",
       "    player_7  player_8  player_9  lh_team0  lh_team1  lh_ratio  \n",
       "9         75         2        46       148       192  0.770833  \n",
       "19         3        30        39       157       144  1.090278  \n",
       "29        56        13        12       174        99  1.757576  \n",
       "39         6        50         8       132       143  0.923077  \n",
       "49        23        37         6       143       101  1.415842  "
      ]
     },
     "execution_count": 18,
     "metadata": {},
     "output_type": "execute_result"
    }
   ],
   "source": [
    "gold['gold_team0'] = gold[team0].sum(axis=1)\n",
    "gold['gold_team1'] = gold[team1].sum(axis=1)\n",
    "gold_end = gold[gold.times==600].drop('times',axis=1)\n",
    "gold_end['ratio'] = gold_end.gold_team0 / gold.gold_team1\n",
    "\n",
    "lh['lh_team0'] = lh[team0].sum(axis=1)\n",
    "lh['lh_team1'] = lh[team1].sum(axis=1)\n",
    "lh_end = lh[lh.times==600].drop('times',axis=1)\n",
    "lh_end['lh_ratio'] = lh_end.lh_team0 / lh.lh_team1\n",
    "lh_end.head()"
   ]
  },
  {
   "cell_type": "code",
   "execution_count": 19,
   "metadata": {
    "collapsed": true
   },
   "outputs": [],
   "source": [
    "%matplotlib inline"
   ]
  },
  {
   "cell_type": "code",
   "execution_count": 20,
   "metadata": {
    "collapsed": false
   },
   "outputs": [
    {
     "data": {
      "text/plain": [
       "<matplotlib.axes._subplots.AxesSubplot at 0x7f4730c5fc88>"
      ]
     },
     "execution_count": 20,
     "metadata": {},
     "output_type": "execute_result"
    },
    {
     "data": {
      "image/png": "[encoded data removed]",
      "text/plain": [
       "<matplotlib.figure.Figure at 0x7f4730bf1208>"
      ]
     },
     "metadata": {},
     "output_type": "display_data"
    }
   ],
   "source": [
    "# gold_end.ratio.hist(bins=100)\n",
    "# Use log to balance cases like (0.3 vs 3)\n",
    "np.log(gold_end['ratio']).hist(bins=100)"
   ]
  },
  {
   "cell_type": "code",
   "execution_count": 21,
   "metadata": {
    "collapsed": false
   },
   "outputs": [
    {
     "data": {
      "text/plain": [
       "<matplotlib.axes._subplots.AxesSubplot at 0x7f4730b0a438>"
      ]
     },
     "execution_count": 21,
     "metadata": {},
     "output_type": "execute_result"
    },
    {
     "data": {
      "image/png": "[encoded data removed]",
      "text/plain": [
       "<matplotlib.figure.Figure at 0x7f47309c0828>"
      ]
     },
     "metadata": {},
     "output_type": "display_data"
    }
   ],
   "source": [
    "np.log(lh_end['lh_ratio']).hist(bins=100)"
   ]
  },
  {
   "cell_type": "code",
   "execution_count": 22,
   "metadata": {
    "collapsed": true
   },
   "outputs": [],
   "source": [
    "def get_meshgrid(X, f1, f2, npoints=100, border=1):\n",
    "    step1 = (X[f1].max() - X[f1].min()) / npoints\n",
    "    step2 = (X[f2].max() - X[f2].min()) / npoints\n",
    "    x1_min, x1_max = X[f1].min() - border, X[f1].max() + border\n",
    "    x2_min, x2_max = X[f2].min() - border, X[f2].max() + border\n",
    "    xx1, xx2 = np.meshgrid(np.arange(x1_min, x1_max, step1), np.arange(x2_min, x2_max, step2))\n",
    "    return xx1,xx2\n",
    "\n",
    "def vis_mesh(clf, X, Y, f1,f2, draw_points=True):\n",
    "    plt.figure(figsize=(16,6))\n",
    "    plt.subplot(1,2,1)\n",
    "    xx1,xx2 = get_meshgrid(X, f1,f2)\n",
    "    xgr = np.c_[xx1.ravel(), xx2.ravel()]\n",
    "    y = clf.predict(xgr).reshape(xx1.shape)\n",
    "    plt.pcolormesh(xx1,xx2,y, cmap=plt.cm.RdYlBu)\n",
    "    if draw_points :\n",
    "        c = ['r' if y==0 else 'b' for y in Y]\n",
    "        Xrnd = X.sample(frac=1)\n",
    "        plt.scatter(Xrnd[f1].iloc[:], Xrnd[f2].iloc[:], c=c, cmap=plt.cm.RdYlBu)"
   ]
  },
  {
   "cell_type": "markdown",
   "metadata": {},
   "source": [
    "## Обучение на двух параметрах (по gold)\n",
    "\n",
    "Эксперименты с глубиной дерева"
   ]
  },
  {
   "cell_type": "code",
   "execution_count": 23,
   "metadata": {
    "collapsed": false
   },
   "outputs": [
    {
     "name": "stdout",
     "output_type": "stream",
     "text": [
      "gold_end 49948\n",
      "    mid  player_0  player_1  player_2  player_3  player_4  player_5  player_6  \\\n",
      "9     0      3454      5206      2613      4426      5755      4072      3997   \n",
      "19    1      2477      5760      3816      4353      5759      7659      5066   \n",
      "29    2      3604      1948      8581      4390      2869      3096      2301   \n",
      "39    3      3457      5464      4432      2961      4314      3345      4791   \n",
      "49    4      3675      4103      5154      3030      2076      3920      3494   \n",
      "\n",
      "    player_7  player_8  player_9  gold_team0  gold_team1     ratio  \n",
      "9       5917      1725      6384       21454       22095  0.970989  \n",
      "19      2748      4440      4623       22165       24536  0.903366  \n",
      "29      5130      2530      2491       21392       15548  1.375868  \n",
      "39      1906      5328      2247       20628       17617  1.170914  \n",
      "49      3392      4458      2220       18038       17484  1.031686  \n",
      "X 24974\n",
      "   gold_team0     ratio\n",
      "0       21454  0.970989\n",
      "1       22165  0.903366\n",
      "2       21392  1.375868\n",
      "3       18038  1.031686\n",
      "4       16017  0.726691\n"
     ]
    }
   ],
   "source": [
    "data = pd.merge(train,gold_end,on='mid',how='left')\n",
    "X = data.drop(['mid', 'radiant_won'], axis=1).drop(team0 + team1 + [\"gold_team1\"], axis=1)\n",
    "Y = data['radiant_won']\n",
    "print('gold_end', len(gold_end.index))\n",
    "print(gold_end.head())\n",
    "print('X', len(X.index))\n",
    "print(X.head())"
   ]
  },
  {
   "cell_type": "code",
   "execution_count": 24,
   "metadata": {
    "collapsed": false
   },
   "outputs": [
    {
     "data": {
      "text/plain": [
       "RandomForestClassifier(bootstrap=True, class_weight=None, criterion='gini',\n",
       "            max_depth=2, max_features='auto', max_leaf_nodes=None,\n",
       "            min_samples_leaf=1, min_samples_split=2,\n",
       "            min_weight_fraction_leaf=0.0, n_estimators=100, n_jobs=1,\n",
       "            oob_score=False, random_state=None, verbose=0,\n",
       "            warm_start=False)"
      ]
     },
     "execution_count": 24,
     "metadata": {},
     "output_type": "execute_result"
    }
   ],
   "source": [
    "clf = sk.RandomForestClassifier(n_estimators=100, max_depth=2)\n",
    "clf.fit(X, Y)"
   ]
  },
  {
   "cell_type": "code",
   "execution_count": 25,
   "metadata": {
    "collapsed": false
   },
   "outputs": [
    {
     "data": {
      "image/png": "[encoded data removed]",
      "text/plain": [
       "<matplotlib.figure.Figure at 0x7f4730b79198>"
      ]
     },
     "metadata": {},
     "output_type": "display_data"
    }
   ],
   "source": [
    "vis_mesh(clf, X, Y, \"gold_team0\", \"ratio\", draw_points=False)"
   ]
  },
  {
   "cell_type": "code",
   "execution_count": 26,
   "metadata": {
    "collapsed": false
   },
   "outputs": [
    {
     "name": "stdout",
     "output_type": "stream",
     "text": [
      "mean= 0.696744591788 std= 0.00350233980876\n"
     ]
    }
   ],
   "source": [
    "cvs = skcv.cross_val_score(clf, X, Y, cv=5, scoring='roc_auc')\n",
    "print('mean=',cvs.mean(),'std=', cvs.std())"
   ]
  },
  {
   "cell_type": "markdown",
   "metadata": {},
   "source": [
    "Зависимость скоринга от глубины дерева. Поставлено маленькое количество эстиматоров, для увеличения скорости. На Тут получается, что оптимальная глубина дерева равна шести."
   ]
  },
  {
   "cell_type": "code",
   "execution_count": 29,
   "metadata": {
    "collapsed": false
   },
   "outputs": [
    {
     "name": "stdout",
     "output_type": "stream",
     "text": [
      "depth =  1 mean = 0.662906753017 std = 0.00465903599866\n",
      "depth =  2 mean = 0.69171988213 std = 0.00499154038512\n",
      "depth =  3 mean = 0.696521777233 std = 0.00616176679183\n",
      "depth =  4 mean = 0.701470814436 std = 0.00359349206652\n",
      "depth =  5 mean = 0.700784663703 std = 0.00431172597543\n",
      "depth =  6 mean = 0.700888915109 std = 0.00463631302591\n",
      "depth =  7 mean = 0.700342922374 std = 0.00500515403926\n",
      "depth =  8 mean = 0.697146593963 std = 0.0047966063098\n",
      "depth =  9 mean = 0.69407120332 std = 0.00577905774953\n",
      "depth =  10 mean = 0.688817694135 std = 0.00386530909711\n"
     ]
    },
    {
     "data": {
      "text/plain": [
       "[<matplotlib.lines.Line2D at 0x7f47305d2c88>]"
      ]
     },
     "execution_count": 29,
     "metadata": {},
     "output_type": "execute_result"
    },
    {
     "data": {
      "image/png": "[encoded data removed]",
      "text/plain": [
       "<matplotlib.figure.Figure at 0x7f4730701208>"
      ]
     },
     "metadata": {},
     "output_type": "display_data"
    }
   ],
   "source": [
    "scores=[]\n",
    "depths = [1,2,3,4,5,6,7,8,9,10]\n",
    "for d in depths:\n",
    "    clf = sk.RandomForestClassifier(n_estimators=5, max_depth=d)\n",
    "    clf.fit(X, Y)\n",
    "    cvs = skcv.cross_val_score(clf, X, Y, cv=5, scoring='roc_auc')\n",
    "    print('depth = ', d, 'mean =',cvs.mean(),'std =', cvs.std())\n",
    "    scores.append(cvs.mean())\n",
    "\n",
    "plt.plot(depths, scores)"
   ]
  },
  {
   "cell_type": "markdown",
   "metadata": {},
   "source": [
    "## Обучение на gold.ratio и lh.ratio\n"
   ]
  },
  {
   "cell_type": "code",
   "execution_count": 120,
   "metadata": {
    "collapsed": false
   },
   "outputs": [
    {
     "name": "stdout",
     "output_type": "stream",
     "text": [
      "49948 49948 24974\n"
     ]
    }
   ],
   "source": [
    "data_1 = pd.merge(train,gold_end.drop(team0+team1,axis=1),on='mid',how='left')\n",
    "data_2 = pd.merge(train,lh_end.drop(team0+team1,axis=1),on='mid',how='left')\n",
    "data = pd.merge(data_1, data_2, on=['mid','radiant_won'], how='inner')\n",
    "X = data.drop(['gold_team1', 'gold_team0', 'lh_team1', 'lh_team0', 'mid', 'radiant_won'], axis=1)\n",
    "Y = data['radiant_won']\n",
    "print(len(gold_end.index), len(lh_end.index), len(data.index))\n"
   ]
  },
  {
   "cell_type": "code",
   "execution_count": 132,
   "metadata": {
    "collapsed": false
   },
   "outputs": [
    {
     "name": "stdout",
     "output_type": "stream",
     "text": [
      "49948 49948 49948 24974\n",
      "      ratio  lh_ratio\n",
      "0  0.970989  0.770833\n",
      "1  0.903366  1.090278\n",
      "2  1.375868  1.757576\n",
      "3  1.031686  1.415842\n",
      "4  0.726691  0.662069\n"
     ]
    }
   ],
   "source": [
    "data_1 = pd.merge(gold_end.drop(team0+team1,axis=1),\n",
    "                  lh_end.drop(team0+team1,axis=1),\n",
    "                  on='mid',how='inner')\n",
    "data = pd.merge(train, data_1,on=['mid'], how='inner')\n",
    "X = data.drop(['gold_team1', 'gold_team0', 'lh_team1', 'lh_team0', 'mid', 'radiant_won'], axis=1)\n",
    "Y = data['radiant_won']\n",
    "print(len(gold_end.index), len(lh_end.index), len(data_1.index), len(data.index))\n",
    "print(X.head())"
   ]
  },
  {
   "cell_type": "code",
   "execution_count": 118,
   "metadata": {
    "collapsed": false
   },
   "outputs": [
    {
     "name": "stdout",
     "output_type": "stream",
     "text": [
      "depth = 1 mean = 0.64296924882 std = 0.0267168206336\n",
      "depth = 2 mean = 0.688995298981 std = 0.006534712986\n",
      "depth = 3 mean = 0.695639195814 std = 0.00708935185831\n",
      "depth = 4 mean = 0.700452163978 std = 0.0052331079262\n",
      "depth = 5 mean = 0.701557287054 std = 0.00545267811684\n",
      "depth = 6 mean = 0.701116562776 std = 0.00591758886872\n",
      "depth = 7 mean = 0.699245888132 std = 0.00494630015009\n",
      "depth = 8 mean = 0.69613187414 std = 0.00489631551468\n",
      "depth = 9 mean = 0.694906101199 std = 0.00531192747355\n",
      "depth = 10 mean = 0.689621003648 std = 0.00365044790194\n"
     ]
    },
    {
     "data": {
      "text/plain": [
       "[<matplotlib.lines.Line2D at 0x7fa851f18c50>]"
      ]
     },
     "execution_count": 118,
     "metadata": {},
     "output_type": "execute_result"
    },
    {
     "data": {
      "image/png": "[encoded data removed]",
      "text/plain": [
       "<matplotlib.figure.Figure at 0x7fa85185c898>"
      ]
     },
     "metadata": {},
     "output_type": "display_data"
    }
   ],
   "source": [
    "scores=[]\n",
    "depths = [1,2,3,4,5,6,7,8,9,10]\n",
    "for d in depths:\n",
    "    clf = sk.RandomForestClassifier(n_estimators=6, max_depth=d)\n",
    "    clf.fit(X, Y)\n",
    "    cvs = skcv.cross_val_score(clf, X, Y, cv=5, scoring='roc_auc')\n",
    "    print('depth =', d, 'mean =',cvs.mean(),'std =', cvs.std())\n",
    "    scores.append(cvs.mean())\n",
    "\n",
    "plt.plot(depths, scores)"
   ]
  },
  {
   "cell_type": "code",
   "execution_count": 141,
   "metadata": {
    "collapsed": false
   },
   "outputs": [
    {
     "name": "stdout",
     "output_type": "stream",
     "text": [
      "mean = 0.702493087427 std = 0.00469410703256\n"
     ]
    },
    {
     "data": {
      "image/png": "[encoded data removed]",
      "text/plain": [
       "<matplotlib.figure.Figure at 0x7fa851e1ad30>"
      ]
     },
     "metadata": {},
     "output_type": "display_data"
    }
   ],
   "source": [
    "clf = sk.RandomForestClassifier(n_estimators=10, max_depth=5)\n",
    "clf.fit(X, Y)\n",
    "vis_mesh(clf, X, Y, \"ratio\", \"lh_ratio\", draw_points=True)\n",
    "cvs = skcv.cross_val_score(clf, X, Y, cv=5, scoring='roc_auc')\n",
    "print('mean =',cvs.mean(),'std =', cvs.std())"
   ]
  },
  {
   "cell_type": "markdown",
   "metadata": {},
   "source": [
    "## Обучение на всех данных gold"
   ]
  },
  {
   "cell_type": "markdown",
   "metadata": {},
   "source": [
    "http://scikit-learn.org/stable/modules/generated/sklearn.ensemble.RandomForestClassifier.html\n"
   ]
  },
  {
   "cell_type": "code",
   "execution_count": null,
   "metadata": {
    "collapsed": false
   },
   "outputs": [
    {
     "data": {
      "text/plain": [
       "RandomForestClassifier(bootstrap=True, class_weight=None, criterion='gini',\n",
       "            max_depth=None, max_features='auto', max_leaf_nodes=None,\n",
       "            min_samples_leaf=1, min_samples_split=2,\n",
       "            min_weight_fraction_leaf=0.0, n_estimators=100, n_jobs=1,\n",
       "            oob_score=False, random_state=None, verbose=0,\n",
       "            warm_start=False)"
      ]
     },
     "execution_count": 123,
     "metadata": {},
     "output_type": "execute_result"
    }
   ],
   "source": [
    "data = pd.merge(train,gold_end,on='mid',how='left')\n",
    "X = data.drop(['mid', 'radiant_won'], axis=1) #.drop(team0, axis=1).drop(team1, axis=1)\n",
    "Y = data['radiant_won']\n",
    "\n",
    "clf = sk.RandomForestClassifier(n_estimators=100)\n",
    "clf.fit(X, Y)"
   ]
  },
  {
   "cell_type": "code",
   "execution_count": null,
   "metadata": {
    "collapsed": false
   },
   "outputs": [],
   "source": [
    "skcv.cross_val_score(clf, X, Y, cv=5, scoring='roc_auc')"
   ]
  },
  {
   "cell_type": "code",
   "execution_count": 100,
   "metadata": {
    "collapsed": false
   },
   "outputs": [
    {
     "data": {
      "text/plain": [
       "array([1, 0, 1, ..., 1, 0, 0])"
      ]
     },
     "execution_count": 100,
     "metadata": {},
     "output_type": "execute_result"
    }
   ],
   "source": [
    "clf.predict(X.iloc[:])"
   ]
  },
  {
   "cell_type": "markdown",
   "metadata": {},
   "source": [
    "http://scikit-learn.org/stable/auto_examples/ensemble/plot_forest_iris.html"
   ]
  },
  {
   "cell_type": "code",
   "execution_count": 119,
   "metadata": {
    "collapsed": false
   },
   "outputs": [
    {
     "data": {
      "image/png": "[encoded data removed]",
      "text/plain": [
       "<matplotlib.figure.Figure at 0x7f112ff3c128>"
      ]
     },
     "metadata": {},
     "output_type": "display_data"
    }
   ],
   "source": [
    "def draw_contour(clf, X, feature1, feature2):\n",
    "    #plot_step = 100\n",
    "    #x1_min, x1_max = X[feature1].min() - 1, X[feature1].max() + 1\n",
    "    #x2_min, x2_max = X[feature2].min() - 1, X[feature2].max() + 1\n",
    "    #xx1, xx2 = np.meshgrid(np.arange(x1_min, x1_max, plot_step),\n",
    "    #                       np.arange(x2_min, x2_max, plot_step))\n",
    "    y = clf.predict(X)\n",
    "    idx0 = np.where(y==0)\n",
    "    idx1 = np.where(y==1)\n",
    "    #print(f1.iloc[idx0].values)\n",
    "    plt.scatter(X[feature1].iloc[idx0], X[feature2].iloc[idx0], c='r', cmap=plt.cm.RdYlBu)\n",
    "    plt.scatter(X[feature1].iloc[idx1], X[feature2].iloc[idx1], c='b', cmap=plt.cm.RdYlBu)\n",
    "    \n",
    "draw_contour(clf, X, \"ratio\", \"ratio\")\n",
    "plt.show()\n",
    "    "
   ]
  },
  {
   "cell_type": "code",
   "execution_count": null,
   "metadata": {
    "collapsed": true
   },
   "outputs": [],
   "source": []
  }
 ],
 "metadata": {
  "kernelspec": {
   "display_name": "Python 3",
   "language": "python",
   "name": "python3"
  },
  "language_info": {
   "codemirror_mode": {
    "name": "ipython",
    "version": 3
   },
   "file_extension": ".py",
   "mimetype": "text/x-python",
   "name": "python",
   "nbconvert_exporter": "python",
   "pygments_lexer": "ipython3",
   "version": "3.5.2"
  }
 },
 "nbformat": 4,
 "nbformat_minor": 0
}
